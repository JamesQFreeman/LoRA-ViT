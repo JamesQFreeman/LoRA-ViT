{
 "cells": [
  {
   "cell_type": "code",
   "execution_count": 2,
   "metadata": {},
   "outputs": [],
   "source": [
    "from base_vit import ViT\n",
    "import torch\n",
    "from lora import LoRA_ViT\n",
    "import numpy as np\n",
    "import matplotlib.pyplot as plt\n",
    "from utils.dataloader import _kneeDataloader\n",
    "from tqdm import tqdm"
   ]
  },
  {
   "cell_type": "code",
   "execution_count": 3,
   "metadata": {},
   "outputs": [],
   "source": [
    "model = ViT('B_16_imagenet1k')\n",
    "model.load_state_dict(torch.load('B_16_imagenet1k.pth'))\n",
    "model.eval()\n",
    "criterion = torch.nn.CrossEntropyLoss()"
   ]
  },
  {
   "cell_type": "code",
   "execution_count": 4,
   "metadata": {},
   "outputs": [],
   "source": [
    "weights = model.state_dict()\n",
    "trainable_keys = [k for k, v in weights.items() if v.requires_grad]\n",
    "trainable_weights = {k: v.clone() for k, v in weights.items() if k in trainable_keys}"
   ]
  },
  {
   "cell_type": "code",
   "execution_count": 5,
   "metadata": {},
   "outputs": [
    {
     "name": "stderr",
     "output_type": "stream",
     "text": [
      "8it [01:34, 11.98s/it]"
     ]
    }
   ],
   "source": [
    "grid_size = 10\n",
    "delta = 0.1\n",
    "trainloader = _kneeDataloader(bs=4)[0]\n",
    "loss_grid = np.zeros((grid_size, grid_size))\n",
    "for i in range(grid_size):\n",
    "    for j in range(grid_size):\n",
    "        for k, v in weights.items():\n",
    "            weights[k] = weights[k] + delta * (i - grid_size // 2) * v + delta * (\n",
    "                j - grid_size // 2) * torch.randn_like(v)\n",
    "        model.load_state_dict(weights)\n",
    "        running_loss = 0.0\n",
    "        for i, data in tqdm(enumerate(trainloader, 0)):\n",
    "            inputs, labels = data\n",
    "\n",
    "            outputs = model(inputs)\n",
    "            loss = criterion(outputs, labels)\n",
    "\n",
    "            running_loss += loss.item()\n",
    "\n",
    "        loss_grid[i, j] = running_loss\n"
   ]
  },
  {
   "cell_type": "code",
   "execution_count": null,
   "metadata": {},
   "outputs": [],
   "source": [
    "plt.imshow(loss_grid, cmap='jet', interpolation='nearest')\n",
    "plt.colorbar()\n",
    "plt.show()"
   ]
  }
 ],
 "metadata": {
  "kernelspec": {
   "display_name": "Python 3",
   "language": "python",
   "name": "python3"
  },
  "language_info": {
   "codemirror_mode": {
    "name": "ipython",
    "version": 3
   },
   "file_extension": ".py",
   "mimetype": "text/x-python",
   "name": "python",
   "nbconvert_exporter": "python",
   "pygments_lexer": "ipython3",
   "version": "3.8.8"
  },
  "orig_nbformat": 4,
  "vscode": {
   "interpreter": {
    "hash": "1a5deaa2df509c678ec362a0157abc07e50d061cc6a0b1ba978125a9011a425f"
   }
  }
 },
 "nbformat": 4,
 "nbformat_minor": 2
}
