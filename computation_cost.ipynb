{
 "cells": [
  {
   "cell_type": "code",
   "execution_count": 1,
   "metadata": {},
   "outputs": [],
   "source": [
    "import time\n",
    "import torch\n",
    "from base_vit import ViT\n",
    "from lora import LoRA_ViT"
   ]
  },
  {
   "cell_type": "code",
   "execution_count": 2,
   "metadata": {},
   "outputs": [],
   "source": [
    "img = torch.randn(1, 3, 384, 384)\n",
    "target = torch.randn(1, 1000)\n"
   ]
  },
  {
   "cell_type": "code",
   "execution_count": 3,
   "metadata": {},
   "outputs": [],
   "source": [
    "# base ViT \n",
    "model = ViT('B_16_imagenet1k')\n",
    "preds = model(img)\n"
   ]
  },
  {
   "cell_type": "code",
   "execution_count": 4,
   "metadata": {},
   "outputs": [],
   "source": [
    "criterion = torch.nn.MSELoss()\n",
    "optimizer = torch.optim.SGD(model.parameters(), lr=0.1)\n",
    "loss = criterion(preds, target)"
   ]
  },
  {
   "cell_type": "code",
   "execution_count": 5,
   "metadata": {},
   "outputs": [
    {
     "name": "stdout",
     "output_type": "stream",
     "text": [
      "Backpropagation took 5.5122 seconds\n"
     ]
    }
   ],
   "source": [
    "# measure the time it takes to run the backward pass\n",
    "start_time = time.time()\n",
    "loss.backward()\n",
    "optimizer.step()\n",
    "end_time = time.time()\n",
    "print(f\"Backpropagation took {end_time - start_time:.4f} seconds\")"
   ]
  },
  {
   "cell_type": "code",
   "execution_count": 7,
   "metadata": {},
   "outputs": [
    {
     "name": "stdout",
     "output_type": "stream",
     "text": [
      "LoRA Backpropagation took 3.0290 seconds\n"
     ]
    }
   ],
   "source": [
    "model = ViT('B_16_imagenet1k')\n",
    "lora_model = LoRA_ViT(model, r=4)\n",
    "preds = lora_model(img)\n",
    "optimizer = torch.optim.SGD(lora_model.parameters(), lr=0.1)\n",
    "loss = criterion(preds, target)\n",
    "# measure the time it takes to run the backward pass\n",
    "start_time = time.time()\n",
    "loss.backward()\n",
    "optimizer.step()\n",
    "end_time = time.time()\n",
    "\n",
    "print(f\"LoRA Backpropagation took {end_time - start_time:.4f} seconds\")"
   ]
  },
  {
   "cell_type": "code",
   "execution_count": null,
   "metadata": {},
   "outputs": [],
   "source": []
  }
 ],
 "metadata": {
  "kernelspec": {
   "display_name": "Python 3",
   "language": "python",
   "name": "python3"
  },
  "language_info": {
   "codemirror_mode": {
    "name": "ipython",
    "version": 3
   },
   "file_extension": ".py",
   "mimetype": "text/x-python",
   "name": "python",
   "nbconvert_exporter": "python",
   "pygments_lexer": "ipython3",
   "version": "3.8.8"
  },
  "orig_nbformat": 4,
  "vscode": {
   "interpreter": {
    "hash": "1a5deaa2df509c678ec362a0157abc07e50d061cc6a0b1ba978125a9011a425f"
   }
  }
 },
 "nbformat": 4,
 "nbformat_minor": 2
}
