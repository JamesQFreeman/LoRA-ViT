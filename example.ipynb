{
 "cells": [
  {
   "cell_type": "code",
   "execution_count": 1,
   "metadata": {},
   "outputs": [],
   "source": [
    "from base_vit import ViT\n",
    "import torch\n",
    "from lora import LoRA_ViT"
   ]
  },
  {
   "cell_type": "code",
   "execution_count": 2,
   "metadata": {},
   "outputs": [],
   "source": [
    "img = torch.randn(1, 3, 384, 384)"
   ]
  },
  {
   "cell_type": "code",
   "execution_count": 3,
   "metadata": {},
   "outputs": [],
   "source": [
    "model = ViT('B_16_imagenet1k')\n",
    "model.load_state_dict(torch.load('B_16_imagenet1k.pth'))\n",
    "preds = model(img)"
   ]
  },
  {
   "cell_type": "code",
   "execution_count": 4,
   "metadata": {},
   "outputs": [],
   "source": [
    "lora_model = LoRA_ViT(model, r=4, num_classes=5, lora_layer=list(range(3,10)))\n",
    "lora_model.eval()\n",
    "preds = lora_model(img)"
   ]
  },
  {
   "cell_type": "code",
   "execution_count": 6,
   "metadata": {},
   "outputs": [
    {
     "name": "stdout",
     "output_type": "stream",
     "text": [
      "Number of trainable parameters: 0.086\n"
     ]
    }
   ],
   "source": [
    "num_params = sum(p.numel() for p in lora_model.parameters() if p.requires_grad)\n",
    "print(f\"Number of trainable parameters: {num_params/2**20:.3f}\")"
   ]
  },
  {
   "cell_type": "code",
   "execution_count": 7,
   "metadata": {},
   "outputs": [],
   "source": [
    "lora_model.save_lora_parameters('feb27.safetensors')"
   ]
  },
  {
   "cell_type": "code",
   "execution_count": 8,
   "metadata": {},
   "outputs": [],
   "source": [
    "lora_model.load_lora_parameters('feb27.safetensors')"
   ]
  },
  {
   "cell_type": "code",
   "execution_count": null,
   "metadata": {},
   "outputs": [],
   "source": []
  }
 ],
 "metadata": {
  "kernelspec": {
   "display_name": "Python 3",
   "language": "python",
   "name": "python3"
  },
  "language_info": {
   "codemirror_mode": {
    "name": "ipython",
    "version": 3
   },
   "file_extension": ".py",
   "mimetype": "text/x-python",
   "name": "python",
   "nbconvert_exporter": "python",
   "pygments_lexer": "ipython3",
   "version": "3.8.8"
  },
  "orig_nbformat": 4,
  "vscode": {
   "interpreter": {
    "hash": "1a5deaa2df509c678ec362a0157abc07e50d061cc6a0b1ba978125a9011a425f"
   }
  }
 },
 "nbformat": 4,
 "nbformat_minor": 2
}
