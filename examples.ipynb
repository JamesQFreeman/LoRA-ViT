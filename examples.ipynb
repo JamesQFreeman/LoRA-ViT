{
 "cells": [
  {
   "cell_type": "markdown",
   "metadata": {},
   "source": [
    "## Add LoRA to ViT models"
   ]
  },
  {
   "cell_type": "code",
   "execution_count": 2,
   "metadata": {},
   "outputs": [
    {
     "name": "stdout",
     "output_type": "stream",
     "text": [
      "trainable parameters: 0.142M\n",
      "total parameters: 81.966M\n"
     ]
    }
   ],
   "source": [
    "import timm\n",
    "from lora import LoRA_ViT_timm\n",
    "\n",
    "weightInfo={\n",
    "    # \"small\":\"WinKawaks/vit-small-patch16-224\",\n",
    "    \"base\":\"vit_base_patch16_224\",\n",
    "    \"base_dino\":\"vit_base_patch16_224.dino\", # 21k -> 1k\n",
    "    \"base_sam\":\"vit_base_patch16_224.sam\", # 1k\n",
    "    \"base_mill\":\"vit_base_patch16_224_miil.in21k_ft_in1k\", # 1k\n",
    "    \"base_beit\":\"beitv2_base_patch16_224.in1k_ft_in22k_in1k\",\n",
    "    \"base_clip\":\"vit_base_patch16_clip_224.laion2b_ft_in1k\", # 1k\n",
    "    \"base_deit\":\"deit_base_distilled_patch16_224\", # 1k\n",
    "    \"large\":\"google/vit-large-patch16-224\",\n",
    "    \"large_clip\":\"vit_large_patch14_clip_224.laion2b_ft_in1k\", # laion-> 1k\n",
    "    \"large_beit\":\"beitv2_large_patch16_224.in1k_ft_in22k_in1k\", \n",
    "    \"huge_clip\":\"vit_huge_patch14_clip_224.laion2b_ft_in1k\", # laion-> 1k\n",
    "    \"giant_eva\":\"eva_giant_patch14_224.clip_ft_in1k\", # laion-> 1k\n",
    "    \"giant_clip\":\"vit_giant_patch14_clip_224.laion2b\",\n",
    "    \"giga_clip\":\"vit_gigantic_patch14_clip_224.laion2b\"\n",
    "    }\n",
    "\n",
    "rank = 4\n",
    "alpha = 8\n",
    "num_classes = 2\n",
    "\n",
    "model = timm.create_model(weightInfo[\"base\"], pretrained=True)\n",
    "melo = LoRA_ViT_timm(model, r=rank, alpha=alpha, num_classes=num_classes)\n",
    "\n",
    "num_params = sum(p.numel() for p in melo.parameters() if p.requires_grad)\n",
    "print(f\"trainable parameters: {num_params/2**20:.3f}M\")\n",
    "num_params = sum(p.numel() for p in melo.parameters())\n",
    "print(f\"total parameters: {num_params/2**20:.3f}M\")\n",
    "\n",
    "# Save melo\n",
    "melo.save_lora_parameters(\"melo.safetensors\")\n",
    "\n",
    "# Load melo\n",
    "melo.load_lora_parameters(\"melo.safetensors\")"
   ]
  },
  {
   "cell_type": "markdown",
   "metadata": {},
   "source": [
    "## Use pretrained melo in paper"
   ]
  },
  {
   "cell_type": "code",
   "execution_count": null,
   "metadata": {},
   "outputs": [],
   "source": [
    "import timm\n",
    "from base_vit import ViT\n",
    "from lora import LoRA_ViT_timm, LoRA_ViT\n",
    "\n",
    "melo_path = \"path to melo weight\"\n",
    "melo_info = melo_path.split(\"/\")[-1].split(\"_\")\n",
    "\n",
    "if melo_info[0] == \"base\":\n",
    "    model = timm.create_model(\"vit_base_patch16_224\", pretrained=True)\n",
    "    melo = LoRA_ViT_timm(model, r=int(melo_info[3]), alpha=int(melo_info[4]), num_classes=int(melo_info[4]))\n",
    "    melo.load_lora_parameters(melo_path)\n",
    "else:\n",
    "    model = ViT('B_16_imagenet1k')\n",
    "    melo = LoRA_ViT(model, r=int(melo_info[3]), alpha=int(melo_info[4]), num_classes=int(melo_info[4]))\n",
    "    melo.load_lora_parameters(melo_path)"
   ]
  },
  {
   "cell_type": "markdown",
   "metadata": {},
   "source": [
    "## Use multi-melo on ViT"
   ]
  },
  {
   "cell_type": "code",
   "execution_count": null,
   "metadata": {},
   "outputs": [],
   "source": [
    "import timm\n",
    "import torch\n",
    "from lora import LoRA_ViT_timm_x\n",
    "\n",
    "# we only support multi-melo with timm ViT models\n",
    "melo_paths = [\"path to melo weight 1\", \"path to melo weight 2\"]\n",
    "\n",
    "model = timm.create_model(weightInfo[\"base\"], pretrained=True)\n",
    "melo = LoRA_ViT_timm_x(model, melo_paths)\n",
    "\n",
    "task_index = 0\n",
    "img = torch.randn(1, 3, 224, 224)\n",
    "melo.swith_lora(task_index)\n",
    "melos_out = melo(img)"
   ]
  }
 ],
 "metadata": {
  "kernelspec": {
   "display_name": "Python 3",
   "language": "python",
   "name": "python3"
  },
  "language_info": {
   "codemirror_mode": {
    "name": "ipython",
    "version": 3
   },
   "file_extension": ".py",
   "mimetype": "text/x-python",
   "name": "python",
   "nbconvert_exporter": "python",
   "pygments_lexer": "ipython3",
   "version": "3.9.18"
  },
  "orig_nbformat": 4,
  "vscode": {
   "interpreter": {
    "hash": "1a5deaa2df509c678ec362a0157abc07e50d061cc6a0b1ba978125a9011a425f"
   }
  }
 },
 "nbformat": 4,
 "nbformat_minor": 2
}
